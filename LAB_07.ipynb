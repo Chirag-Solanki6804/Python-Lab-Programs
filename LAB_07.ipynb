{
 "cells": [
  {
   "cell_type": "markdown",
   "id": "e928168d",
   "metadata": {},
   "source": [
    "#  A programs\n",
    "# 1. WAP to create a dictionary for n values and print the size of the dictionary."
   ]
  },
  {
   "cell_type": "code",
   "execution_count": 1,
   "id": "829d6744",
   "metadata": {},
   "outputs": [
    {
     "name": "stdout",
     "output_type": "stream",
     "text": [
      "Enter the number of key-value pairs: 3\n",
      "Enter key :1\n",
      "Enter value :chirag\n",
      "Enter key :2\n",
      "Enter value :ajay\n",
      "Enter key :3\n",
      "Enter value :mayur\n",
      "Dictionary: {'1': 'chirag', '2': 'ajay', '3': 'mayur'}\n",
      "Size of the dictionary: 3\n"
     ]
    }
   ],
   "source": [
    "n = int(input(\"Enter the number of key-value pairs: \"))\n",
    "dictionary = {}\n",
    "for i in range(n):\n",
    "    key = input(\"Enter key :\")\n",
    "    value = input(\"Enter value :\")\n",
    "    dictionary[key] = value\n",
    "\n",
    "print(dictionary)\n",
    "print(len(dictionary))\n"
   ]
  },
  {
   "cell_type": "markdown",
   "id": "cfb5ce23",
   "metadata": {},
   "source": [
    "# 2. WAP to create a dictionary from a string."
   ]
  },
  {
   "cell_type": "code",
   "execution_count": 2,
   "id": "79b766f4",
   "metadata": {},
   "outputs": [
    {
     "name": "stdout",
     "output_type": "stream",
     "text": [
      "Enter a string: aabbbbc\n",
      "Dictionary from the string:\n",
      "{'a': 2, 'b': 4, 'c': 1}\n"
     ]
    }
   ],
   "source": [
    "stri = input(\"Enter a string: \")\n",
    "\n",
    "char_frequency = {}\n",
    "\n",
    "for c in stri:\n",
    "    if c in char_frequency:\n",
    "        char_frequency[c] += 1\n",
    "    else:\n",
    "        char_frequency[c] = 1\n",
    "\n",
    "print(char_frequency)\n"
   ]
  },
  {
   "cell_type": "markdown",
   "id": "0412f4c6",
   "metadata": {},
   "source": []
  },
  {
   "cell_type": "markdown",
   "id": "f41efe93",
   "metadata": {},
   "source": [
    "# 3. WAP to sort python dictionary by value in ascending and descending order."
   ]
  },
  {
   "cell_type": "code",
   "execution_count": 4,
   "id": "f692f811",
   "metadata": {},
   "outputs": [
    {
     "name": "stdout",
     "output_type": "stream",
     "text": [
      "Original Dictionary: {'age': 25, 'height': 180, 'weight': 70}\n",
      "Dictionary sorted by values in ascending order: {'age': 25, 'weight': 70, 'height': 180}\n",
      "Dictionary sorted by values in descending order: {'height': 180, 'weight': 70, 'age': 25}\n"
     ]
    }
   ],
   "source": [
    "my_dict = {'age': 25, 'height': 180, 'weight': 70}\n",
    "\n",
    "# twodarray=[[1,100],[2,220],[10,150],[4,200]]\n",
    "\n",
    "# print(dict(sorted(twodarray,key=lambda subarray:subarray[1])))\n",
    "\n",
    "sorted_dict_asc = dict(sorted(my_dict.items(), key=lambda item: item[1]))\n",
    "\n",
    "sorted_dict_desc = dict(sorted(my_dict.items(), key=lambda item: item[1], reverse=True))\n",
    "\n",
    "print(\"Original Dictionary:\", my_dict)\n",
    "print(\"Dictionary sorted by values in ascending order:\", sorted_dict_asc)\n",
    "print(\"Dictionary sorted by values in descending order:\", sorted_dict_desc)\n"
   ]
  },
  {
   "cell_type": "markdown",
   "id": "bd92e871",
   "metadata": {},
   "source": [
    "# 4. WAP to sort python dictionary by key in ascending and descending order."
   ]
  },
  {
   "cell_type": "code",
   "execution_count": 4,
   "id": "63aaa5fe",
   "metadata": {},
   "outputs": [
    {
     "name": "stdout",
     "output_type": "stream",
     "text": [
      "Original Dictionary: {'age': 25, 'height': 180, 'weight': 70}\n",
      "Dictionary sorted by keys in ascending order: {'age': 25, 'height': 180, 'weight': 70}\n",
      "Dictionary sorted by keys in descending order: {'weight': 70, 'height': 180, 'age': 25}\n"
     ]
    }
   ],
   "source": [
    "my_dict = {'age': 25, 'height': 180, 'weight': 70}\n",
    "\n",
    "sorted_dict_asc = dict(sorted(my_dict.items()))\n",
    "\n",
    "sorted_dict_desc = dict(sorted(my_dict.items(), reverse=True))\n",
    "\n",
    "print(\"Original Dictionary:\", my_dict)\n",
    "print(\"Dictionary sorted by keys in ascending order:\", sorted_dict_asc)\n",
    "print(\"Dictionary sorted by keys in descending order:\", sorted_dict_desc)\n"
   ]
  },
  {
   "cell_type": "markdown",
   "id": "38e6b605",
   "metadata": {},
   "source": [
    "# 5. WAP to enter a key and add a key to a dictionary if it does not exist."
   ]
  },
  {
   "cell_type": "code",
   "execution_count": 6,
   "id": "340c079c",
   "metadata": {},
   "outputs": [
    {
     "name": "stdout",
     "output_type": "stream",
     "text": [
      "Enter a key to add to the dictionary: iq\n",
      "Enter the value for the new key: 120\n",
      "Key added.\n",
      "Updated Dictionary: {'age': 25, 'height': 180, 'weight': 70, 'iq': '120'}\n"
     ]
    }
   ],
   "source": [
    "my_dict = {'age': 25, 'height': 180, 'weight': 70}\n",
    "\n",
    "key = input(\"Enter a key to add to the dictionary: \")\n",
    "\n",
    "if key not in my_dict:\n",
    "    value= input(\"Enter the value for the new key: \")\n",
    "    my_dict[key] = value\n",
    "    print(\"Key added.\")\n",
    "else:\n",
    "    print(\"Key already exists.\")\n",
    "\n",
    "print(my_dict)\n"
   ]
  },
  {
   "cell_type": "markdown",
   "id": "f69eb92e",
   "metadata": {},
   "source": [
    "# 6. WAP to enter a key and to remove a key from a dictionary if it exists."
   ]
  },
  {
   "cell_type": "code",
   "execution_count": 8,
   "id": "9033bb24",
   "metadata": {},
   "outputs": [
    {
     "name": "stdout",
     "output_type": "stream",
     "text": [
      "Enter a key to remove from the dictionary: age\n",
      "Key removed.\n",
      "{'height': 180, 'weight': 70}\n"
     ]
    }
   ],
   "source": [
    "my_dict = {'age': 25, 'height': 180, 'weight': 70}\n",
    "\n",
    "key = input(\"Enter a key to remove from the dictionary: \")\n",
    "\n",
    "if key in my_dict:\n",
    "#     del my_dict[key]\n",
    "    my_dict.pop(key)\n",
    "    print(\"Key removed.\")\n",
    "else:\n",
    "    print(\"Key does not exist.\")\n",
    "\n",
    "print(my_dict)\n"
   ]
  },
  {
   "cell_type": "markdown",
   "id": "e23fc84a",
   "metadata": {},
   "source": [
    "# 7. WAP to get the maximum and minimum value in a dictionary of 10 country names entered by user."
   ]
  },
  {
   "cell_type": "code",
   "execution_count": 18,
   "id": "6fa61ea9",
   "metadata": {},
   "outputs": [
    {
     "name": "stdout",
     "output_type": "stream",
     "text": [
      "PAK\n",
      "CHINA\n",
      "IND 100\n",
      "PAK 0\n"
     ]
    },
    {
     "data": {
      "text/plain": [
       "0"
      ]
     },
     "execution_count": 18,
     "metadata": {},
     "output_type": "execute_result"
    }
   ],
   "source": [
    "countrys={\"IND\":100,\"PAK\":0,\"CHINA\":50,\"NEP\":60}\n",
    "\n",
    "maxVal=max(countrys.values())\n",
    "minVal=min(countrys.values())\n",
    "\n",
    "for key,value in countrys.items():\n",
    "    if maxVal==value:\n",
    "        print(key,value)\n",
    "    if minVal==value:\n",
    "        print(key,value)\n"
   ]
  },
  {
   "cell_type": "markdown",
   "id": "684a89d1",
   "metadata": {},
   "source": [
    "# 8. WAP to merge two dictionaries given by user into one dictionary."
   ]
  },
  {
   "cell_type": "code",
   "execution_count": 14,
   "id": "39c21782",
   "metadata": {},
   "outputs": [
    {
     "name": "stdout",
     "output_type": "stream",
     "text": [
      "{1: 'hii', 2: 'hello', 3: 'chirag', 4: 'ajay'}\n"
     ]
    }
   ],
   "source": [
    "dict1 = {1:\"hii\"}\n",
    "dict2 = {2:\"hello\",3:\"chirag\",4:\"ajay\"}\n",
    "\n",
    "n = int(input(\"Enter size of dict 1: \"))\n",
    "print(\"Enter inputs for dict 1:\")\n",
    "for i in range(n):\n",
    "    key = input(\"Enter key : \")\n",
    "    value = input(\"Enter value: \")\n",
    "    dict1[key] = value\n",
    "\n",
    "m = int(input(\"Enter size of dict 2: \"))\n",
    "print(\"Enter inputs for dict 1:\")\n",
    "for _ in range(m):\n",
    "    key = input(\"Enter key: \")\n",
    "    value = input(\"Enter value: \")\n",
    "    dict2[key] = value\n",
    "\n",
    "for key,value in dict2.items():\n",
    "    dict1[key]=value\n",
    "\n",
    "print(dict1)\n",
    "    \n",
    "    \n",
    "# dict1.update(dict2)\n",
    "    \n",
    "# merge={**dict1,**dict2}\n"
   ]
  },
  {
   "cell_type": "markdown",
   "id": "58dd980c",
   "metadata": {},
   "source": [
    "# 9. WAP to convert two lists into a dictionary."
   ]
  },
  {
   "cell_type": "code",
   "execution_count": 19,
   "id": "764e2b3c",
   "metadata": {},
   "outputs": [
    {
     "name": "stdout",
     "output_type": "stream",
     "text": [
      "{'name': 'chirag', 'age': 19, 'city': 'Rajkot'}\n"
     ]
    }
   ],
   "source": [
    "keys = [\"name\", \"age\", \"city\"]\n",
    "values = [\"chirag\", 19, \"Rajkot\"]\n",
    "\n",
    "# using method \n",
    "# final_dict = dict(zip(keys, values))\n",
    "\n",
    "# without using method\n",
    "final_dict = {}\n",
    "\n",
    "for i in range(len(keys)):\n",
    "    final_dict[keys[i]] = values[i]\n",
    "    \n",
    "print(final_dict)\n"
   ]
  },
  {
   "cell_type": "markdown",
   "id": "6254c6df",
   "metadata": {},
   "source": [
    "# 10. WAP to map two lists into a dictionary."
   ]
  },
  {
   "cell_type": "code",
   "execution_count": null,
   "id": "b991bb2d",
   "metadata": {},
   "outputs": [],
   "source": []
  },
  {
   "cell_type": "markdown",
   "id": "c6105056",
   "metadata": {},
   "source": [
    "# B programs\n",
    "# 1. WAP to remove all the duplicate words from the list using dictionary."
   ]
  },
  {
   "cell_type": "code",
   "execution_count": 3,
   "id": "0bbb7329",
   "metadata": {},
   "outputs": [
    {
     "name": "stdout",
     "output_type": "stream",
     "text": [
      "['du', 'mu', 'du', 'mu', 'Gtu']\n",
      "['du', 'mu', 'Gtu']\n"
     ]
    }
   ],
   "source": [
    "\n",
    "words = [\"du\",\"mu\",\"du\",\"mu\",\"Gtu\"]\n",
    "\n",
    "unique_words = {}\n",
    "\n",
    "for word in words:\n",
    "    unique_words[word] = True\n",
    "\n",
    "unique_words = list(unique_words.keys())\n",
    "\n",
    "print(words)\n",
    "print(unique_words)\n"
   ]
  },
  {
   "cell_type": "markdown",
   "id": "8ba7f878",
   "metadata": {},
   "source": [
    "# 2. WAP to count frequency or occurrence of list element from a list using a dictionary."
   ]
  },
  {
   "cell_type": "code",
   "execution_count": 6,
   "id": "a3823baa",
   "metadata": {},
   "outputs": [
    {
     "name": "stdout",
     "output_type": "stream",
     "text": [
      "{1: 4, 2: 2, 3: 2, 4: 2, 5: 1}\n"
     ]
    }
   ],
   "source": [
    "numbers = [1, 2, 3, 4, 1, 2, 1, 3, 1, 4, 5]\n",
    "\n",
    "ans_dict = {}\n",
    "\n",
    "for num in numbers:\n",
    "    if num in ans_dict:\n",
    "        ans_dict[num] += 1\n",
    "    else:\n",
    "        ans_dict[num] = 1\n",
    "\n",
    "print(ans_dict)\n"
   ]
  },
  {
   "cell_type": "markdown",
   "id": "baf5ce70",
   "metadata": {},
   "source": [
    "# 3. Write a Python program to create and display all combinations of letters, selecting each letter from a different key in a dictionary."
   ]
  },
  {
   "cell_type": "code",
   "execution_count": 4,
   "id": "a02d4ed4",
   "metadata": {},
   "outputs": [
    {
     "name": "stdout",
     "output_type": "stream",
     "text": [
      "adf\n",
      "adg\n",
      "adh\n",
      "aef\n",
      "aeg\n",
      "aeh\n",
      "bdf\n",
      "bdg\n",
      "bdh\n",
      "bef\n",
      "beg\n",
      "beh\n",
      "cdf\n",
      "cdg\n",
      "cdh\n",
      "cef\n",
      "ceg\n",
      "ceh\n"
     ]
    }
   ],
   "source": [
    "def generate_combinations(dictionary):\n",
    "    if not dictionary:\n",
    "        return ['']\n",
    "    key = next(iter(dictionary))\n",
    "    rest = dictionary.copy()\n",
    "    del rest[key]\n",
    "    rest_combinations = generate_combinations(rest)\n",
    "    combinations = []\n",
    "    for letter in dictionary[key]:\n",
    "        for comb in rest_combinations:\n",
    "            combinations.append(letter + comb)\n",
    "    return combinations\n",
    "\n",
    "# Example dictionary\n",
    "letters_dict = {\n",
    "    'A': ['a', 'b', 'c'],\n",
    "    'B': ['d', 'e'],\n",
    "    'C': ['f', 'g', 'h']\n",
    "}\n",
    "\n",
    "# Generating and displaying combinations\n",
    "combinations = generate_combinations(letters_dict)\n",
    "for combo in combinations:\n",
    "    print(combo)\n",
    "\n"
   ]
  },
  {
   "cell_type": "markdown",
   "id": "00bade4d",
   "metadata": {},
   "source": [
    "# 4. WAP to print all unique values in a dictionary."
   ]
  },
  {
   "cell_type": "code",
   "execution_count": 2,
   "id": "30d06cdc",
   "metadata": {},
   "outputs": [
    {
     "name": "stdout",
     "output_type": "stream",
     "text": [
      "[1, 2, 3]\n"
     ]
    }
   ],
   "source": [
    "# Sample dictionary\n",
    "my_dict = {\n",
    "    'a': 1,\n",
    "    'b': 2,\n",
    "    'c': 3,\n",
    "    'd': 1,\n",
    "    'e': 2,\n",
    "    'f': 3\n",
    "}\n",
    "\n",
    "# Initialize an empty list to store unique values\n",
    "unique_values = []\n",
    "\n",
    "# Iterate over the values of the dictionary\n",
    "for value in my_dict.values():\n",
    "    # Check if the value is not already in the list\n",
    "    if value not in unique_values:\n",
    "        # If it's not in the list, add it\n",
    "        unique_values.append(value)\n",
    "\n",
    "# Print unique values\n",
    "print(unique_values)\n"
   ]
  },
  {
   "cell_type": "markdown",
   "id": "31b8bf24",
   "metadata": {},
   "source": [
    "# 5. WAP to replace words from Dictionary using: 1) split(), get() and join() and 2) list comprehension and join()."
   ]
  },
  {
   "cell_type": "code",
   "execution_count": 3,
   "id": "994d8fc1",
   "metadata": {},
   "outputs": [
    {
     "name": "stdout",
     "output_type": "stream",
     "text": [
      "hi world, this is a example\n"
     ]
    }
   ],
   "source": [
    "# Sample input text\n",
    "text = \"hello world, this is a test\"\n",
    "\n",
    "# Dictionary of replacements\n",
    "replacements = {\n",
    "    \"hello\": \"hi\",\n",
    "    \"test\": \"example\"\n",
    "}\n",
    "\n",
    "# Split the text into words\n",
    "words = text.split()\n",
    "\n",
    "# Replace words using the replacements dictionary\n",
    "replaced_words = [replacements.get(word, word) for word in words]\n",
    "\n",
    "# Join the replaced words back into a string\n",
    "replaced_text = ' '.join(replaced_words)\n",
    "\n",
    "# Print the replaced text\n",
    "print(replaced_text)\n"
   ]
  },
  {
   "cell_type": "code",
   "execution_count": null,
   "id": "03a2d0b0",
   "metadata": {},
   "outputs": [],
   "source": []
  }
 ],
 "metadata": {
  "kernelspec": {
   "display_name": "Python 3 (ipykernel)",
   "language": "python",
   "name": "python3"
  },
  "language_info": {
   "codemirror_mode": {
    "name": "ipython",
    "version": 3
   },
   "file_extension": ".py",
   "mimetype": "text/x-python",
   "name": "python",
   "nbconvert_exporter": "python",
   "pygments_lexer": "ipython3",
   "version": "3.11.5"
  }
 },
 "nbformat": 4,
 "nbformat_minor": 5
}
